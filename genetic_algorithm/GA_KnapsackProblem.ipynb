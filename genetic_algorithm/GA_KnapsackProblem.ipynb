{
 "cells": [
  {
   "cell_type": "code",
   "execution_count": 1,
   "id": "62b6ade3-9d6f-4617-a1b6-f8380dc481cb",
   "metadata": {},
   "outputs": [],
   "source": [
    "import random \n",
    "from deap import base \n",
    "from deap import creator \n",
    "from deap import tools \n",
    "from deap import algorithms\n"
   ]
  },
  {
   "cell_type": "code",
   "execution_count": 2,
   "id": "7c1e68b4-9786-49f1-a5a1-1f4af21edf87",
   "metadata": {},
   "outputs": [],
   "source": [
    "creator.create(\"FitnessMax\",base.Fitness,weights=(1.0,)) #Create type for store individual (in this example we use list) \n",
    "creator.create(\"Individual\", list, fitness=creator.FitnessMax)"
   ]
  },
  {
   "cell_type": "code",
   "execution_count": 3,
   "id": "43948ac0-7321-4526-a3e6-1c1a370ff548",
   "metadata": {},
   "outputs": [],
   "source": [
    "def randBool():\n",
    "    return random.random()>0.5"
   ]
  },
  {
   "cell_type": "code",
   "execution_count": 4,
   "id": "d0d529d2-68eb-4cef-9318-f5bfcb642db8",
   "metadata": {},
   "outputs": [
    {
     "name": "stdout",
     "output_type": "stream",
     "text": [
      "{0: (3, 70.21492310376361), 1: (1, 28.399698840910016), 2: (1, 35.33844553039964), 3: (10, 89.94458498742748), 4: (9, 27.47186630391798), 5: (1, 72.68667344389279), 6: (5, 87.19466706284464), 7: (9, 92.08347592733178), 8: (2, 12.60163522020843), 9: (5, 50.77035537546087), 10: (4, 70.39624270866331), 11: (7, 85.07791563457316), 12: (9, 73.19475030022171), 13: (7, 39.49790927114003), 14: (2, 59.016923066474355), 15: (8, 83.73102056324315), 16: (4, 10.573883661642514), 17: (1, 74.47360663582818), 18: (4, 52.88279089458423), 19: (2, 74.09994946465628), 20: (2, 66.05683930682895), 21: (5, 71.3250280659016), 22: (7, 24.384297396313116), 23: (7, 53.12376321602865), 24: (9, 74.62860702354503), 25: (9, 64.29068926656728), 26: (1, 65.83981511701768), 27: (1, 78.99830526658455), 28: (2, 62.576856502881604), 29: (3, 73.42748287115934), 30: (1, 1.4994147517763734), 31: (4, 33.32573003634496), 32: (10, 74.5087098131479), 33: (3, 98.68190506717627), 34: (3, 66.1894744722987), 35: (8, 50.88329499122811), 36: (7, 36.11425194839091), 37: (8, 20.381481988665463), 38: (4, 55.60654000220556), 39: (5, 85.39170365370273), 40: (8, 41.41734154516722), 41: (4, 71.54921594951254), 42: (8, 41.51853352260173), 43: (1, 70.08443839879408), 44: (9, 37.28389795614733), 45: (3, 14.48378293924234), 46: (2, 25.790356926147386), 47: (1, 52.677659861503635), 48: (5, 7.9406935477138845), 49: (6, 25.843818390351704)}\n"
     ]
    }
   ],
   "source": [
    "# The items number (that means –the size of the problem)\n",
    "import csv\n",
    "NUMBER_OF_ITEMS= 50 # The max weight of the items in the bag (the max number of the items depend on the MAX_WEIGHT)\n",
    "MAX_WEIGHT = 30 # Description of the problem# the code below may be replaced with loading the problem from the file)\n",
    "items = {}\n",
    "items = {}\n",
    "i = 0\n",
    "with open('KP_50_30.csv', newline='') as csvfile:\n",
    "    reader = csv.DictReader(csvfile)\n",
    "    for row in reader:\n",
    "        items[i] = (int(row['weight']), float(row['profit']))\n",
    "        i+=1\n",
    "print(items)"
   ]
  },
  {
   "cell_type": "code",
   "execution_count": 5,
   "id": "945270f3-b194-4546-8e2a-79d5855bc3b8",
   "metadata": {},
   "outputs": [],
   "source": [
    "#Create toolbox for register needed functions\n",
    "toolbox = base.Toolbox() #Register function used for initcontent of the individual (for the benchmark function are the real values)\n",
    "toolbox.register(\"attribute_bool\",randBool) #Register function used for init Population of the individuals\n",
    "toolbox.register(\"individual\", tools.initRepeat, creator.Individual, toolbox.attribute_bool, n=NUMBER_OF_ITEMS)#Register function for create population of individuals\n",
    "toolbox.register(\"population\",tools.initRepeat, list, toolbox.individual)"
   ]
  },
  {
   "cell_type": "code",
   "execution_count": null,
   "id": "22cd8549-eb9d-4a80-84fc-3ff32baa14f2",
   "metadata": {},
   "outputs": [],
   "source": []
  },
  {
   "cell_type": "code",
   "execution_count": 6,
   "id": "99d70335-ce21-47fe-90ad-505070338aab",
   "metadata": {},
   "outputs": [],
   "source": [
    "#Testing the registered function (look on the content of the individual)\n",
    "ind1 = toolbox.individual()"
   ]
  },
  {
   "cell_type": "code",
   "execution_count": 7,
   "id": "8f59b6d7-1fae-4e58-a324-5ffe4329802f",
   "metadata": {},
   "outputs": [
    {
     "name": "stdout",
     "output_type": "stream",
     "text": [
      "[[True, True, False, False, True, False, False, True, False, False, True, True, False, True, False, False, True, False, True, False, False, True, False, False, False, True, True, True, False, False, False, True, False, False, False, True, True, False, True, True, True, True, False, True, True, False, False, True, False, False], [True, True, True, False, False, False, True, False, True, False, True, False, True, True, True, False, False, False, False, True, False, True, True, False, False, True, False, True, False, True, True, True, True, True, False, False, True, True, False, False, True, False, False, False, True, True, True, True, False, False], [False, True, False, True, False, False, True, True, True, False, False, False, False, True, False, False, False, False, False, False, False, False, False, True, False, True, False, True, False, False, False, True, True, True, True, False, True, True, True, True, False, False, False, True, True, True, False, True, False, True], [False, False, True, False, True, False, True, True, False, False, True, True, True, True, False, False, False, True, False, False, True, False, True, True, True, False, False, False, False, True, False, False, False, False, False, False, False, False, False, True, False, True, True, True, True, True, False, True, False, True], [False, False, False, False, True, True, True, True, False, True, True, False, False, False, True, True, False, True, True, False, True, False, True, False, True, False, True, True, True, False, True, True, False, True, False, True, True, False, False, False, True, True, False, False, False, False, True, False, True, False], [False, True, False, True, True, False, True, True, False, True, True, True, True, True, False, True, False, False, False, False, True, False, False, False, True, False, True, True, False, False, True, False, True, True, True, True, False, True, False, False, True, True, False, False, False, True, True, False, True, False], [True, False, False, True, False, True, False, False, False, True, False, False, False, True, False, True, True, True, False, False, True, True, False, False, True, True, False, True, True, False, False, False, True, False, False, False, True, False, True, False, False, False, False, False, True, False, True, False, False, True], [False, False, True, True, True, True, True, False, True, True, False, False, False, False, True, False, False, True, False, True, False, False, False, False, True, True, False, True, True, False, False, False, True, True, True, True, True, True, True, True, False, False, False, True, False, False, False, False, False, True], [False, False, False, True, False, False, False, False, True, False, False, True, False, True, False, False, True, True, True, True, True, False, False, True, False, True, False, False, True, False, False, False, False, False, True, True, True, False, False, True, True, True, False, False, True, False, True, True, True, True], [True, False, False, True, True, False, True, False, False, False, True, True, False, True, True, False, True, True, True, True, False, False, False, True, False, True, False, True, False, True, False, False, True, False, True, True, False, True, False, False, True, True, False, False, True, True, False, True, False, True], [True, True, True, False, False, True, True, True, True, True, True, False, False, True, False, True, False, True, False, True, False, True, True, True, True, False, False, True, False, True, True, False, False, True, True, True, False, True, False, False, False, False, False, True, True, False, True, True, False, False], [False, True, True, False, False, True, True, False, False, False, True, False, True, False, True, True, True, True, True, False, True, True, False, False, True, False, True, True, True, False, False, False, False, False, False, True, True, False, False, False, False, True, False, True, True, True, False, False, False, True], [True, True, True, True, False, True, False, False, False, False, False, True, False, True, False, True, False, False, True, False, False, True, False, True, False, True, False, True, True, True, False, True, True, False, False, True, False, True, False, True, True, True, True, False, True, False, False, False, False, False], [False, False, False, True, False, True, True, True, False, True, False, True, True, False, True, False, True, False, True, True, False, True, False, False, False, False, False, False, True, False, False, True, True, False, False, False, False, True, False, True, True, True, False, True, False, False, False, True, False, False], [False, True, True, False, False, False, True, False, False, True, False, True, True, False, True, False, True, True, True, True, False, False, True, False, False, False, False, True, True, True, True, False, False, False, True, True, False, False, False, False, False, True, True, False, False, False, False, False, True, True], [True, False, True, False, False, True, False, True, True, True, False, False, False, False, False, True, True, True, False, False, True, True, True, False, True, False, True, True, True, True, False, False, True, True, True, False, False, True, True, False, False, True, False, False, True, False, False, False, True, False], [False, False, False, False, True, False, True, False, True, True, False, True, True, True, False, False, False, True, True, True, True, False, True, False, True, False, False, True, True, False, False, False, False, True, True, True, False, True, False, False, False, False, True, True, False, False, False, True, True, True], [True, True, False, False, True, False, False, False, True, True, False, False, False, False, True, False, True, True, False, True, True, True, False, False, True, False, False, True, True, False, True, False, True, True, False, True, False, False, True, False, True, True, True, False, False, False, False, False, False, False], [True, True, True, True, True, False, False, False, True, True, True, True, True, True, True, False, True, True, True, True, False, False, False, True, True, True, False, False, False, False, False, True, False, True, False, False, True, True, False, True, False, True, True, True, True, False, True, True, True, True], [True, True, True, False, False, True, False, True, False, True, True, False, False, True, True, False, False, True, True, False, False, False, True, True, False, True, False, True, False, False, True, False, False, True, False, True, False, False, True, True, False, True, False, True, False, False, True, False, True, False], [True, True, False, True, False, False, True, True, True, True, True, False, False, True, False, True, False, False, False, True, True, True, True, True, False, True, True, False, True, True, True, True, True, True, False, False, False, True, True, False, True, True, True, True, False, True, False, True, False, False], [False, True, True, True, False, True, False, False, True, False, True, False, False, False, True, False, False, False, False, False, True, False, True, False, True, False, False, False, True, False, False, False, True, True, False, False, False, True, True, False, True, False, True, False, False, False, False, True, True, True], [True, True, False, False, True, False, False, True, True, True, True, False, True, True, True, False, False, True, False, False, True, False, True, True, False, False, True, True, True, True, True, False, True, True, False, True, False, False, False, True, False, True, True, True, True, False, True, True, True, True], [True, True, True, False, False, False, False, False, True, True, True, False, True, True, True, True, False, False, False, False, False, False, True, False, False, False, True, True, True, True, False, True, False, False, False, True, True, True, True, True, True, False, False, False, False, False, False, False, True, True], [True, False, False, True, True, True, False, False, True, False, True, False, False, True, True, False, False, True, False, True, True, True, True, True, False, True, True, True, True, True, False, True, False, True, False, False, False, True, True, False, False, True, False, True, False, True, False, True, False, False], [False, False, True, False, False, True, True, True, False, True, False, True, False, False, True, True, True, False, True, False, True, True, True, True, True, False, False, False, True, True, True, True, True, False, False, False, True, False, False, False, True, False, False, False, False, True, True, True, False, True], [False, True, False, False, True, False, True, False, False, True, True, False, True, True, False, True, True, False, False, False, True, False, False, False, False, False, True, False, True, True, True, True, True, False, False, True, False, False, False, True, False, False, True, False, True, False, True, False, True, False], [False, True, True, True, True, False, True, True, True, True, True, True, True, False, False, False, True, True, True, False, True, True, True, False, False, True, False, True, True, False, True, False, False, True, False, False, True, False, False, True, False, False, False, True, True, False, False, True, False, False], [False, False, False, False, True, False, False, False, False, False, False, True, False, True, False, False, True, False, False, False, True, False, False, False, True, True, False, False, True, True, False, True, True, False, True, False, True, True, True, True, True, True, True, False, True, False, False, True, True, True], [False, False, True, True, False, True, True, True, True, True, True, False, False, False, True, False, True, True, True, True, True, True, True, True, True, True, True, False, True, False, True, False, False, True, False, False, True, False, True, True, True, True, True, True, True, False, False, True, True, True], [False, True, True, True, False, False, True, False, True, False, True, False, False, False, True, True, True, False, True, True, True, True, False, True, True, False, True, False, True, True, False, True, True, True, False, False, True, True, False, False, True, False, False, False, False, True, True, False, False, False], [False, True, True, False, True, False, False, True, False, False, True, True, True, True, True, True, True, False, True, True, True, True, True, True, False, False, True, False, True, True, False, True, False, True, False, False, True, True, False, False, True, False, True, True, True, True, True, False, False, True], [False, True, True, False, False, True, True, True, True, True, False, False, False, True, True, True, True, True, True, True, True, False, True, False, True, False, True, True, False, False, True, False, True, True, True, False, True, True, False, False, True, False, True, True, False, False, False, False, False, False], [False, True, True, True, True, True, False, True, True, False, False, False, True, True, True, True, True, False, False, True, True, True, True, False, True, True, False, False, False, False, True, False, False, False, False, False, True, True, True, True, False, True, False, True, True, True, True, True, True, False], [True, False, False, False, False, True, False, False, False, False, True, False, False, False, True, False, True, False, False, True, True, True, False, True, False, True, False, True, False, False, True, True, False, True, True, False, False, True, False, True, False, True, False, False, False, True, True, False, False, False], [False, False, False, True, False, False, True, False, True, True, False, True, True, True, False, True, True, False, False, True, True, True, True, False, True, True, True, False, True, True, False, True, False, True, True, False, False, False, True, False, True, False, True, True, False, True, False, False, False, True], [False, False, False, True, False, True, True, True, False, True, False, False, True, False, True, False, True, True, False, False, False, True, True, True, True, False, False, True, False, True, True, False, False, True, False, False, False, False, True, False, False, False, True, True, False, False, True, True, False, True], [True, False, False, True, False, True, False, True, False, False, True, True, False, False, False, True, False, True, False, False, True, False, True, False, False, True, False, True, False, True, False, False, False, True, False, False, False, True, False, True, False, False, False, True, False, True, True, False, False, False], [True, False, True, True, True, False, False, True, True, True, False, True, True, True, False, False, True, True, True, False, True, False, False, True, True, True, True, False, False, True, True, True, False, True, False, False, False, False, True, False, False, True, True, True, True, True, False, True, True, True], [False, True, True, False, True, True, True, True, False, False, False, True, False, False, False, True, True, True, True, True, False, True, True, True, True, True, True, False, False, False, True, False, False, False, True, False, True, False, False, True, True, True, True, False, False, True, False, True, True, True], [True, True, True, False, False, False, True, False, True, False, False, True, False, False, False, True, False, False, False, True, True, False, False, True, False, False, False, False, False, False, False, True, False, True, True, False, True, True, True, True, True, True, True, True, False, False, False, True, False, False], [True, True, True, False, False, True, True, True, False, True, False, False, True, False, True, True, True, True, True, False, False, True, False, True, False, False, False, False, False, False, True, True, True, False, False, True, True, False, True, True, True, False, True, True, False, False, True, True, False, True], [False, True, False, False, True, False, True, True, True, False, False, False, True, False, True, True, True, False, True, True, False, False, True, True, False, True, True, True, True, True, True, True, False, False, True, False, False, True, True, False, False, True, True, True, True, False, True, False, True, False], [True, False, False, True, True, True, False, True, False, True, True, True, True, False, False, False, True, False, True, True, True, False, True, False, False, True, True, True, False, False, True, False, True, True, False, True, False, True, True, True, True, False, False, True, True, True, True, False, False, True], [False, False, True, False, False, False, True, False, False, True, True, True, False, True, True, False, True, True, False, False, False, True, True, False, False, True, True, False, True, False, False, True, True, True, False, True, True, False, True, False, True, False, False, True, True, True, True, False, True, True], [True, True, True, True, False, False, True, True, True, True, False, True, False, False, True, True, False, True, True, True, True, True, True, True, False, False, False, False, False, False, False, False, False, True, True, True, False, False, False, True, True, True, True, True, False, True, True, False, False, False], [True, False, True, True, True, True, True, True, False, True, False, True, True, False, True, True, False, False, True, False, True, False, True, False, False, True, True, True, False, False, False, False, True, False, False, False, True, True, False, True, True, False, False, True, True, True, True, True, True, True], [False, True, False, False, True, True, False, True, False, False, False, True, False, False, False, False, False, True, True, True, False, False, False, False, True, True, True, False, True, True, True, True, True, False, False, False, False, False, False, True, True, True, True, True, False, True, True, True, False, False], [False, True, False, True, False, True, True, True, True, True, False, False, True, False, True, False, False, True, True, False, True, True, True, False, True, False, False, False, True, False, False, False, False, True, False, False, False, False, False, True, True, True, True, False, True, True, False, False, False, True], [True, False, False, True, True, False, True, False, False, True, False, False, False, False, True, True, False, False, False, False, False, True, False, False, True, True, False, True, False, True, True, True, False, True, True, True, True, False, False, True, False, True, True, False, True, False, False, True, True, True]]\n"
     ]
    }
   ],
   "source": [
    "pop = toolbox.population(n=50)\n",
    "print(pop)"
   ]
  },
  {
   "cell_type": "code",
   "execution_count": 8,
   "id": "2c18cf05-8d4c-4429-9787-77f8217ce69b",
   "metadata": {},
   "outputs": [],
   "source": [
    "def fitness_profit(individual):\n",
    "    profit = 0\n",
    "    for item in range(len(individual)):\n",
    "        if(individual[item]): \n",
    "            profit+= items[item][1]\n",
    "    return profit"
   ]
  },
  {
   "cell_type": "code",
   "execution_count": 9,
   "id": "2c2297a6-22a1-4b19-9a47-57d2da87b01a",
   "metadata": {},
   "outputs": [],
   "source": [
    "def fitness_weight(individual):\n",
    "    weight = 0\n",
    "    for item in range(len(individual)):\n",
    "        if(individual[item]): \n",
    "            weight+= items[item][0]\n",
    "    return weight"
   ]
  },
  {
   "cell_type": "code",
   "execution_count": 10,
   "id": "f9425b43-c0b7-411e-b3e9-8a53407a4c22",
   "metadata": {},
   "outputs": [],
   "source": [
    "from math import sin\n",
    "\n",
    "def evalFct(individual):\n",
    "    \"\"\"Evaluation function for the individual.\"\"\"\n",
    "    x = individual[0]\n",
    "    return (x - 5)**2 * sin(x) * (x/3),\n",
    "\n",
    "def feasible(individual):\n",
    "    \"\"\"Feasibility function for the individual. Returns True if feasible False\n",
    "    otherwise.\"\"\"\n",
    "    if 3 < individual[0] < 7:\n",
    "        return True\n",
    "    return False\n",
    "\n",
    "def distance(individual):\n",
    "    \"\"\"A distance function to the feasibility region.\"\"\"\n",
    "    return (individual[0] - 5.0)**2\n",
    "\n",
    "\n",
    "toolbox.register(\"evaluate\", evalFct)\n",
    "toolbox.decorate(\"evaluate\", tools.DeltaPenalty(feasible, 7.0, distance))"
   ]
  },
  {
   "cell_type": "code",
   "execution_count": 11,
   "id": "acd54d19-e9e9-46bd-aa78-594c723e29d8",
   "metadata": {},
   "outputs": [],
   "source": [
    "def fitness(individual):\n",
    "    f_p = fitness_profit(individual)\n",
    "    f_w = fitness_weight(individual)\n",
    "    if(f_w > MAX_WEIGHT):\n",
    "      \n",
    "        # penalty of the f_p, if the solution is not feasible)\n",
    "        # the penalty value depends on the distance from  feasible point\n",
    "        return f_p/(f_w -MAX_WEIGHT)**6,\n",
    "        # k = 6\n",
    "    else:\n",
    "        return f_p,"
   ]
  },
  {
   "cell_type": "code",
   "execution_count": 12,
   "id": "ea905557-be3c-48cf-a828-f92a072f25e3",
   "metadata": {},
   "outputs": [],
   "source": [
    "def fitness_info(individual):\n",
    "    weight = 0 \n",
    "    profit = 0\n",
    "    ni = 0 #number of items\n",
    "    for item in range(len(individual)):\n",
    "        if(individual[item]): \n",
    "            weight += items[item][0]\n",
    "            profit += items[item][1]\n",
    "            ni += 1\n",
    "    return profit, weight, ni"
   ]
  },
  {
   "cell_type": "code",
   "execution_count": 13,
   "id": "d55dfc46-d5e9-4589-a6fd-9355753a04ad",
   "metadata": {},
   "outputs": [
    {
     "name": "stdout",
     "output_type": "stream",
     "text": [
      "1278.5063124084145\n",
      "87\n",
      "(3.727809773199446e-08,)\n",
      "(1278.5063124084145, 87, 20)\n"
     ]
    }
   ],
   "source": [
    "print(fitness_profit(ind1))\n",
    "print(fitness_weight(ind1))\n",
    "print(fitness(ind1))\n",
    "print(fitness_info(ind1))"
   ]
  },
  {
   "cell_type": "code",
   "execution_count": 14,
   "id": "d877cd51-198a-45c8-9c1f-0df0d7132565",
   "metadata": {},
   "outputs": [],
   "source": [
    "#Definition of the mutation function \n",
    "def mutBool(ind):\n",
    "    pos = random.randint(0,len(ind)-1)\n",
    "    ind[pos] = not ind[pos]"
   ]
  },
  {
   "cell_type": "code",
   "execution_count": 15,
   "id": "ef2fcc79-9f91-4b2a-bf4e-c9f46e60faf8",
   "metadata": {},
   "outputs": [],
   "source": [
    "toolbox.register(\"mate\", tools.cxTwoPoint)\n",
    "toolbox.register(\"mutate\",mutBool)\n",
    "toolbox.register(\"select\",tools.selRoulette) #toolbox.register(\"select\",tools.selTournament, tournsize=3)\n",
    "toolbox.register(\"evaluate\",fitness)"
   ]
  },
  {
   "cell_type": "code",
   "execution_count": 16,
   "id": "d1ac5cf8-ba59-4d84-91c8-b4a603b861dd",
   "metadata": {},
   "outputs": [],
   "source": [
    "import numpy\n",
    "stats = tools.Statistics(key=lambda ind: ind.fitness.values)\n",
    "stats.register(\"avg\",numpy.mean)\n",
    "stats.register(\"std\",numpy.std)\n",
    "stats.register(\"min\",numpy.min)\n",
    "stats.register(\"max\",numpy.max)\n"
   ]
  },
  {
   "cell_type": "code",
   "execution_count": 17,
   "id": "164cf4c7-484b-4d29-8244-9aa9da3bc202",
   "metadata": {},
   "outputs": [],
   "source": [
    "def GA_ALG(CXPB,MUTPB,NGEN,N,stats):\n",
    "    pop = toolbox.population(n=N) #(1)\n",
    "    logbook = tools.Logbook()# Evaluate the entire population #(2)\n",
    "    fitnesses = map(toolbox.evaluate, pop)\n",
    "    for ind, fit in zip(pop, fitnesses):\n",
    "        ind.fitness.values = fit #Loop over generations\n",
    "    for g in range(NGEN):\n",
    "        # Select the next generation individuals\n",
    "        offspring = toolbox.select(pop, len(pop)) #(3)# Clone the selected individuals\n",
    "        offspring_map = map(toolbox.clone, offspring)\n",
    "        offspring = ([x for x in offspring_map])\n",
    "        # Apply crossover and mutation on the offspring #(4)\n",
    "        for child1, child2 in zip(offspring[::2], offspring[1::2]):\n",
    "            if random.random() < CXPB:\n",
    "                toolbox.mate(child1, child2)\n",
    "                del child1.fitness.values\n",
    "                del child2.fitness.values\n",
    "\n",
    "\n",
    "        for mutant in offspring:\n",
    "            if random.random() < MUTPB:\n",
    "                toolbox.mutate(mutant)\n",
    "                del mutant.fitness.values# Evaluate the individuals with an invalid fitness #(2)\n",
    "        invalid_ind = [ind for ind in offspring if not ind.fitness.valid]\n",
    "        fitnesses = map(toolbox.evaluate, invalid_ind)\n",
    "        for ind, fit in zip(invalid_ind, fitnesses):\n",
    "             ind.fitness.values = fit# The population is entirely replaced by the\n",
    "        pop[:] = offspring \n",
    "        record = stats.compile(pop)\n",
    "        #print(record)\n",
    "        logbook.record(gen=g, evals=len(invalid_ind), **record)\n",
    "    return pop, logbook            "
   ]
  },
  {
   "cell_type": "code",
   "execution_count": 18,
   "id": "f549dda6-2ad3-4713-a3e9-2b4d37a1bc52",
   "metadata": {},
   "outputs": [],
   "source": [
    "pop, logbook = GA_ALG(0.5,0.05,200,100,stats)\n",
    "gen, avg, std, Min, Max = logbook.select('gen','avg','std','min','max')"
   ]
  },
  {
   "cell_type": "code",
   "execution_count": 19,
   "id": "181a540f-5641-451f-b365-45e526be242b",
   "metadata": {},
   "outputs": [
    {
     "name": "stderr",
     "output_type": "stream",
     "text": [
      "No handles with labels found to put in legend.\n"
     ]
    },
    {
     "data": {
      "image/png": "[encoded data removed]",
      "text/plain": [
       "<Figure size 1440x720 with 2 Axes>"
      ]
     },
     "metadata": {
      "needs_background": "light"
     },
     "output_type": "display_data"
    }
   ],
   "source": [
    "import matplotlib.pyplot as plt \n",
    "fig, ax1 = plt.subplots()\n",
    "fig.set_figwidth(20)\n",
    "fig.set_figheight(10)\n",
    "line1 = ax1.plot(gen, Max, \"r-\")\n",
    "ax1.legend()\n",
    "ax2 = ax1.twinx()\n",
    "line2 = ax2.plot(gen, avg, \"b-\")\n",
    "ax1.set_xlabel(\"Generations\")\n",
    "ax1.set_ylabel(\"Fitness\", color=\"b\")\n",
    "plt.show()"
   ]
  },
  {
   "cell_type": "code",
   "execution_count": 20,
   "id": "dec258a3-9020-42fc-b65a-e9d1bbeed511",
   "metadata": {},
   "outputs": [
    {
     "data": {
      "text/plain": [
       "[(707.21539985469, 31, 11),\n",
       " (707.21539985469, 31, 11),\n",
       " (707.21539985469, 31, 11),\n",
       " (669.9533106722097, 31, 12),\n",
       " (633.1154503900337, 29, 10),\n",
       " (707.21539985469, 31, 11),\n",
       " (742.5538453850896, 32, 12),\n",
       " (633.1154503900337, 29, 10),\n",
       " (633.1154503900337, 29, 10),\n",
       " (707.21539985469, 31, 11),\n",
       " (707.21539985469, 31, 11),\n",
       " (707.21539985469, 31, 11),\n",
       " (633.1154503900337, 29, 10),\n",
       " (742.5538453850896, 32, 12),\n",
       " (668.4538959204333, 30, 11),\n",
       " (668.4538959204333, 30, 11),\n",
       " (707.21539985469, 31, 11),\n",
       " (707.21539985469, 31, 11),\n",
       " (705.8021238339265, 30, 11),\n",
       " (741.1405693643261, 31, 12),\n",
       " (596.5258278010505, 28, 11),\n",
       " (741.1405693643261, 31, 12),\n",
       " (668.4538959204333, 30, 11),\n",
       " (707.21539985469, 31, 11),\n",
       " (741.1405693643261, 31, 12),\n",
       " (705.8021238339265, 30, 11),\n",
       " (679.0277795820758, 34, 12),\n",
       " (633.1154503900337, 29, 10),\n",
       " (707.21539985469, 31, 11),\n",
       " (707.21539985469, 31, 11),\n",
       " (707.21539985469, 31, 11),\n",
       " (707.21539985469, 31, 11),\n",
       " (658.9058073161812, 31, 11),\n",
       " (658.9058073161812, 31, 11),\n",
       " (741.1405693643261, 31, 12),\n",
       " (707.21539985469, 31, 11),\n",
       " (707.21539985469, 31, 11),\n",
       " (707.21539985469, 31, 11),\n",
       " (707.21539985469, 31, 11),\n",
       " (633.1154503900337, 29, 10),\n",
       " (707.21539985469, 31, 11),\n",
       " (633.1154503900337, 29, 10),\n",
       " (733.0057567808374, 33, 12),\n",
       " (633.1154503900337, 29, 10),\n",
       " (633.1154503900337, 29, 10),\n",
       " (633.1154503900337, 29, 10),\n",
       " (633.1154503900337, 29, 10),\n",
       " (633.1154503900337, 29, 10),\n",
       " (668.4538959204333, 30, 11),\n",
       " (741.1405693643261, 31, 12),\n",
       " (668.4538959204333, 30, 11),\n",
       " (633.1154503900337, 29, 10),\n",
       " (561.7904223241321, 24, 9),\n",
       " (741.1405693643261, 31, 12),\n",
       " (668.4538959204333, 30, 11),\n",
       " (633.1154503900337, 29, 10),\n",
       " (633.1154503900337, 29, 10),\n",
       " (633.1154503900337, 29, 10),\n",
       " (707.21539985469, 31, 11),\n",
       " (669.9533106722097, 31, 12),\n",
       " (707.21539985469, 31, 11),\n",
       " (633.1154503900337, 29, 10),\n",
       " (707.21539985469, 31, 11),\n",
       " (668.4538959204333, 30, 11),\n",
       " (633.1154503900337, 29, 10),\n",
       " (633.1154503900337, 29, 10),\n",
       " (634.6148651418101, 30, 11),\n",
       " (742.5538453850896, 32, 12),\n",
       " (633.1154503900337, 29, 10),\n",
       " (633.1154503900337, 29, 10),\n",
       " (669.9533106722097, 31, 12),\n",
       " (633.1154503900337, 29, 10),\n",
       " (668.4538959204333, 30, 11),\n",
       " (633.1154503900337, 29, 10),\n",
       " (707.21539985469, 31, 11),\n",
       " (633.1154503900337, 29, 10),\n",
       " (668.4538959204333, 30, 11),\n",
       " (633.1154503900337, 29, 10),\n",
       " (634.6148651418101, 30, 11),\n",
       " (668.4538959204333, 30, 11),\n",
       " (707.21539985469, 31, 11),\n",
       " (668.4538959204333, 30, 11),\n",
       " (741.1405693643261, 31, 12),\n",
       " (707.21539985469, 31, 11),\n",
       " (707.21539985469, 31, 11),\n",
       " (668.4538959204333, 30, 11),\n",
       " (707.21539985469, 31, 11),\n",
       " (668.4538959204333, 30, 11),\n",
       " (668.4538959204333, 30, 11),\n",
       " (633.1154503900337, 29, 10),\n",
       " (633.1154503900337, 29, 10),\n",
       " (668.4538959204333, 30, 11),\n",
       " (722.836101566794, 35, 13),\n",
       " (668.4538959204333, 30, 11),\n",
       " (668.4538959204333, 30, 11),\n",
       " (758.0986948459181, 39, 12),\n",
       " (705.8021238339265, 30, 11),\n",
       " (577.5089103878282, 25, 9),\n",
       " (668.4538959204333, 30, 11),\n",
       " (668.4538959204333, 30, 11)]"
      ]
     },
     "execution_count": 20,
     "metadata": {},
     "output_type": "execute_result"
    }
   ],
   "source": [
    "evaluates = [fitness_info(p) for p in pop]\n",
    "evaluates"
   ]
  },
  {
   "cell_type": "code",
   "execution_count": 27,
   "id": "4a29b9d7-f8f4-4aeb-be98-8678a8e643cb",
   "metadata": {},
   "outputs": [
    {
     "name": "stdout",
     "output_type": "stream",
     "text": [
      "0.2 0.02 300\n",
      "0.2 0.02 300\n",
      "max =876.8355281150739\n",
      "average: 668.5537103003618\n",
      "min: 401.8265448980765\n",
      "0.3 0.03 400\n",
      "0.3 0.03 400\n",
      "max =996.6420857092983\n",
      "average: 730.2550606273259\n",
      "min: 403.35633893283733\n",
      "0.4 0.04 500\n",
      "0.4 0.04 500\n",
      "max =1011.4610979958427\n",
      "average: 739.556319216967\n",
      "min: 557.687890200461\n",
      "2\n",
      "2\n",
      "0.4\n",
      "0.4\n",
      "As we can see for cxp: 0.4 the algorithm gives the best result\n"
     ]
    }
   ],
   "source": [
    "import numpy as np\n",
    "l1 = [ i/10 for i in range(2,5)]\n",
    "l2 = [i/100 for i in range (2,5)]\n",
    "l3 = [i*100 for i in range (3,6)]\n",
    "max_ = []\n",
    "average = []\n",
    "min_ = []\n",
    "for cxp,pr,st in zip(l1,l2,l3):\n",
    "            _max = 0.0\n",
    "            max_list =[]\n",
    "            print(cxp,pr,st)\n",
    "            for i in range (0,30):\n",
    "                pop, logbook = GA_ALG(cxp,pr,st,100,stats)\n",
    "                evaluates = [fitness_info(p) for p in pop]\n",
    "                \n",
    "                ev_ok = [ev for ev in evaluates if ev[1]<=30]\n",
    "                if len(ev_ok)==0:\n",
    "                    pass\n",
    "                else:    \n",
    "                    buf = max(ev_ok,key= lambda x: x[0])\n",
    "                    #print (f'Repeat: {i}, value: {buf}')\n",
    "                    max_list.append(buf[0])\n",
    "                    if _max <buf[0]:\n",
    "                        _max = buf[0]\n",
    "                \n",
    "            max_.append(_max)\n",
    "            average.append(sum(max_list)/len(max_list))\n",
    "            min_.append(min(max_list))\n",
    "            \n",
    "            \n",
    "            print(cxp,pr,st)    \n",
    "            print(f'max ={_max}') \n",
    "            print(f'average: {sum(max_list)/len(max_list)}')\n",
    "            print(f'min: {min(max_list)}')\n",
    "# The algorithm (GA2) generates three values in each rotation. The values are contained inside an array.\n",
    "# If all the values in a single column (row1 = max, row2 = average, row3 = min) hits the highest score it can be considered that the corresponding column related to \n",
    "# i'th iteration has achived the best result. If not the best result is achieved the applied conditions then looks for the next best results and generates a remark\n",
    "# based on the potency of the values. \n",
    "\n",
    "i=[max_.index(max(max_)), min_.index(min(min_)),average.index(max(average))]\n",
    "j=0\n",
    "for k in i:\n",
    "    if i.count(k)>1:\n",
    "        j=k\n",
    "g=0       \n",
    "for t in range(j):\n",
    "    g=l1[j]\n",
    "print(\"As we can see for cxp:\",g,\"the algorithm gives the best result\")       \n",
    "        \n",
    "        "
   ]
  },
  {
   "cell_type": "code",
   "execution_count": null,
   "id": "ada36682-666b-4e11-a34d-d36bc0743431",
   "metadata": {},
   "outputs": [],
   "source": []
  }
 ],
 "metadata": {
  "kernelspec": {
   "display_name": "Python 3 (ipykernel)",
   "language": "python",
   "name": "python3"
  },
  "language_info": {
   "codemirror_mode": {
    "name": "ipython",
    "version": 3
   },
   "file_extension": ".py",
   "mimetype": "text/x-python",
   "name": "python",
   "nbconvert_exporter": "python",
   "pygments_lexer": "ipython3",
   "version": "3.9.7"
  }
 },
 "nbformat": 4,
 "nbformat_minor": 5
}
