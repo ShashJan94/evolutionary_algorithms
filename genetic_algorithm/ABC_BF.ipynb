{
 "cells": [
  {
   "cell_type": "code",
   "execution_count": 1,
   "metadata": {},
   "outputs": [],
   "source": [
    "import random\n",
    "import math\n",
    "import numpy as np\n",
    "from deap import base\n",
    "from deap import creator\n",
    "from deap import tools\n",
    "from deap import algorithms\n"
   ]
  },
  {
   "cell_type": "code",
   "execution_count": 2,
   "metadata": {},
   "outputs": [],
   "source": [
    "# Dimension number (number of the attributes)\n",
    "DIM_SIZE = 30"
   ]
  },
  {
   "cell_type": "code",
   "execution_count": 3,
   "metadata": {},
   "outputs": [],
   "source": [
    "# The power function (domain <-100,100>)\n",
    "MIN_VALUES = -100\n",
    "MAX_VALUES = 100\n",
    "\n",
    "def F1(tab):\n",
    "    return sum([x*x for x in tab]),"
   ]
  },
  {
   "cell_type": "code",
   "execution_count": 4,
   "metadata": {},
   "outputs": [],
   "source": [
    "# <-10.10>\n",
    "# MIN_VALUES = -10\n",
    "# MAX_VALUES = 10\n",
    "def F2(tab):\n",
    "    suma = sum([abs(x) for x in tab])\n",
    "    mul = 1\n",
    "    for x in tab:\n",
    "        mul*= abs(x)\n",
    "    return suma + mul,"
   ]
  },
  {
   "cell_type": "code",
   "execution_count": 6,
   "metadata": {},
   "outputs": [],
   "source": [
    "# Definition of the Generalized Schwefel Problem 2.26 (F8)(domain <-500, 500>)\n",
    "#MIN_VALUES = -500\n",
    "#MAX_VALUES = 500\n",
    "\n",
    "def F8(tab):\n",
    "    return sum([ math.sin(math.sqrt(abs(x))) for x in tab]),"
   ]
  },
  {
   "cell_type": "code",
   "execution_count": 7,
   "metadata": {},
   "outputs": [],
   "source": [
    "#Create type for minimization of the function\n",
    "creator.create(\"FitnessMin\",base.Fitness,weights=(-1.0,))\n",
    "\n",
    "#Create type for store food resource (contains extra atribute (trial) \n",
    "creator.create(\"FoodSource\", list, fitness=creator.FitnessMin, \n",
    "trial = 0)\n"
   ]
  },
  {
   "cell_type": "code",
   "execution_count": 8,
   "metadata": {},
   "outputs": [],
   "source": [
    "# Definition of the food source (additional content)\n",
    "def initFoodSource(size,pmin,pmax):\n",
    "    foodSource = creator.FoodSource(random.uniform(pmin,pmax) for\n",
    "_ in range(size))\n",
    "    foodSource.trial = 0\n",
    "    return foodSource"
   ]
  },
  {
   "cell_type": "code",
   "execution_count": 9,
   "metadata": {},
   "outputs": [],
   "source": [
    "#Create toolbox for register needed functions\n",
    "toolbox = base.Toolbox()\n",
    "\n",
    "#Register function used for init the food resource\n",
    "toolbox.register(\"FoodSource\", initFoodSource, size = DIM_SIZE, \n",
    "pmin= MIN_VALUES, pmax=MAX_VALUES)\n",
    "\n",
    "#Register function for create population of food resources\n",
    "toolbox.register(\"FoodSources\",tools.initRepeat, list, \n",
    "toolbox.FoodSource)\n"
   ]
  },
  {
   "cell_type": "code",
   "execution_count": 10,
   "metadata": {},
   "outputs": [],
   "source": [
    "#Create type for store bees\n",
    "creator.create(\"Bee\", list, fitness=creator.FitnessMin)\n",
    "\n",
    "def initBee(size,pmin,pmax):\n",
    "    bee = creator.Bee(0 for _ in range(size))\n",
    "    return bee"
   ]
  },
  {
   "cell_type": "code",
   "execution_count": 11,
   "metadata": {},
   "outputs": [],
   "source": [
    "#Register function used for init Bee\n",
    "toolbox.register(\"Bee\", initBee, size = DIM_SIZE, pmin= MIN_VALUES, \n",
    "pmax=MAX_VALUES )\n",
    "\n",
    "#Register function for create population of bees\n",
    "toolbox.register(\"Bees\",tools.initRepeat, list, toolbox.Bee)"
   ]
  },
  {
   "cell_type": "code",
   "execution_count": 12,
   "metadata": {},
   "outputs": [],
   "source": [
    "## Function for move the employed bee \n",
    "def moveEmployedBees(foodSources,employedBees):\n",
    "    n = len(employedBees)\n",
    "    #For each bee (all)\n",
    "    for fr1Index in range(0,n):\n",
    "            fr2Index = random.sample([i for i in range(0,n) if\n",
    "i!=fr1Index],1)[0]\n",
    "            fr1 = foodSources[fr1Index]\n",
    "            fr2 = foodSources[fr2Index]\n",
    "            employedBee = employedBees[fr1Index]\n",
    "            \n",
    "            randValues = [random.random() for i in range(len(fr1))]\n",
    "            newPos = [b1 + r * (b1 - b2) for b1, b2, r in\n",
    "zip(fr1,fr2,randValues)]\n",
    "            for i in range(len(employedBee)):\n",
    "                employedBee[i] = newPos[i]\n",
    "            del employedBee.fitness.values # need recalculation of the fitness\n",
    "            fr1.trial = fr1.trial+1 #Increase of using of the food source\n"
   ]
  },
  {
   "cell_type": "code",
   "execution_count": 13,
   "metadata": {},
   "outputs": [],
   "source": [
    "# Functions for implementation modified roulette whell selection method\n",
    "# 1. Get one random food resource based on cumulative probability (roulette whell)\n",
    "def getOneIndex(piCum):\n",
    "    randomValue = random.random()\n",
    "    for index, elem in enumerate(piCum):\n",
    "        if elem > randomValue:\n",
    "            return index\n",
    "# 2. Calculate the probability of selection according to the ABC equations\n",
    "def calcPi(foodResources):\n",
    "    fi = [1.0/(1-fs.fitness.values[0]) if\n",
    "fs.fitness.values[0]>=0.0 else 1.0 + abs(fs.fitness.values[0]) for\n",
    "fs in foodResources]\n",
    "    minfi = min(fi)\n",
    "    finorm = [x + minfi for x in fi]\n",
    "    sumfi = sum(finorm)\n",
    "    pi = [x/sumfi for x in finorm]\n",
    "    return pi\n",
    "\n",
    "# 3. Define te finall function for create the indexes of the food sources according to propability\n",
    "def roulette(foodResources,N):\n",
    "    pi = calcPi(foodResources)\n",
    "    piCum = np.cumsum(pi)\n",
    "    indexes = [getOneIndex(piCum) for i in range(0,N)]\n",
    "    return indexes"
   ]
  },
  {
   "cell_type": "code",
   "execution_count": 64,
   "metadata": {},
   "outputs": [],
   "source": [
    "## Function for move the onlooker bee (better food resources are using more frequently)\n",
    "# For the onlooker - bees select food resources based on the probability\n",
    "def moveOnlookerBees(foodSources,employedBees):\n",
    "    n = len(employedBees)\n",
    "    selectedIndexes = roulette(foodSources,n)\n",
    "    \n",
    "    #For each bee (selected according to probability P (roulette wheel)\n",
    "    for fr1Index,fr1IndexBee in zip(selectedIndexes,range(0,n)):\n",
    "        fr2Index = random.sample([i for i in range(0,n) if\n",
    "i!=fr1Index],1)[0]\n",
    "        fr1 = foodSources[fr1Index]\n",
    "        fr2 = foodSources[fr2Index]\n",
    "        employedBee = employedBees[fr1IndexBee]\n",
    "        \n",
    "        randValues = [random.random() for i in range(len(fr1))]\n",
    "        newPos = [b1 + r * (b1 - b2) for b1, b2, r in\n",
    "zip(fr1,fr2,randValues)]\n",
    "        for i in range(len(employedBee)):\n",
    "            employedBee[i] = newPos[i]\n",
    "        del employedBee.fitness.values # need recalculation of the fitness\n",
    "        fr1.trial = fr1.trial+1 #Increase of using of the food resource\n"
   ]
  },
  {
   "cell_type": "code",
   "execution_count": 65,
   "metadata": {},
   "outputs": [],
   "source": [
    "## Function for move the scoutOutBees\n",
    "## This method check only tial number, if is to big, then restars location of the food resource and number of trials\n",
    "def moveScotOutBees(foodSources, min_x, max_x, trialNumber):\n",
    "    for fs in foodSources:\n",
    "        if fs.trial >= trialNumber:\n",
    "            fs.values = random.uniform(min_x,max_x)\n",
    "            fs.trial = 0\n",
    "            del fs.fitness.values\n"
   ]
  },
  {
   "cell_type": "code",
   "execution_count": 66,
   "metadata": {},
   "outputs": [],
   "source": [
    "# Function for update food sources performed by all bees (onlookers and workers)\n",
    "def updateFoodSources(foodSources,bees,globalBest):\n",
    "    for foodSource, bee in zip(foodSources,bees):\n",
    "        if foodSource.fitness.values > bee.fitness.values:\n",
    "            foodSource.fitness.values = bee.fitness.values\n",
    "            for i in range(len(foodSource)):\n",
    "                foodSource[i] = bee[i]\n",
    "            updateGlobalBest(foodSource,globalBest)"
   ]
  },
  {
   "cell_type": "code",
   "execution_count": 67,
   "metadata": {},
   "outputs": [],
   "source": [
    "# Function for update global best\n",
    "def updateGlobalBest(foodSource, globalBest):\n",
    "    if globalBest.fitness.values > foodSource.fitness.values:\n",
    "        for i in range(len(globalBest)):\n",
    "            globalBest[i] = foodSource[i]\n",
    "        globalBest.fitness.values = foodSource.fitness.values"
   ]
  },
  {
   "cell_type": "code",
   "execution_count": 68,
   "metadata": {},
   "outputs": [],
   "source": [
    "# Function for evaluate the food sources or bees\n",
    "def evaluate(foodSources):\n",
    "    invalidEvaluate = [ind for ind in foodSources if not ind.fitness.valid]\n",
    "    fitnesses = map(toolbox.evaluate, invalidEvaluate)\n",
    "    for ind, fit in zip(invalidEvaluate, fitnesses):\n",
    "        ind.fitness.values = fit"
   ]
  },
  {
   "cell_type": "code",
   "execution_count": 69,
   "metadata": {},
   "outputs": [],
   "source": [
    "# Function for evaluate the food sources \n",
    "def evaluateWithUpdateTheGlobalBest(foodSources, globalBest):\n",
    "    invalidEvaluate = [ind for ind in foodSources if not ind.fitness.valid]\n",
    "    fitnesses = map(toolbox.evaluate, invalidEvaluate)\n",
    "    for ind, fit in zip(invalidEvaluate, fitnesses):\n",
    "        ind.fitness.values = fit\n",
    "        updateGlobalBest(ind,globalBest)\n"
   ]
  },
  {
   "cell_type": "code",
   "execution_count": 70,
   "metadata": {},
   "outputs": [],
   "source": [
    "#Register problem\n",
    "toolbox.register(\"evaluate\",F1)\n"
   ]
  },
  {
   "cell_type": "code",
   "execution_count": 71,
   "metadata": {},
   "outputs": [],
   "source": [
    "# Finally the full algorithm introducted by Dervis Karaboga -2005\n",
    "def ABC_alg(foodSourceNumber,iterationNumber,stats):\n",
    "    #0. Create the loogbook\n",
    "    logbook = tools.Logbook()\n",
    "    g_history = []\n",
    "    #1. Create the food resources (place for sharing information between bees)\n",
    "    foodSources = toolbox.FoodSources(n=foodSourceNumber)\n",
    "    evaluate(foodSources)\n",
    "    \n",
    "    #2. Create the EmployedBees\n",
    "    employedBees = toolbox.Bees(n=foodSourceNumber)\n",
    "    \n",
    "    #3. Create the OnlookerBees\n",
    "    onlookerBees = toolbox.Bees(n=foodSourceNumber)\n",
    "    \n",
    "    #4. Create the place for store the best\n",
    "    globalBest = toolbox.FoodSource()\n",
    "    globalBest.fitness.values = 50e200,\n",
    "    \n",
    "    for gen in range(0,iterationNumber):\n",
    "        # Employed Bee works\n",
    "        moveEmployedBees(foodSources,employedBees)\n",
    "        #Evaluate\n",
    "        evaluate(employedBees)\n",
    "        # Save the better solution in the foodSources\n",
    "        updateFoodSources(foodSources,employedBees,globalBest)\n",
    "        # Onloker Bee works\n",
    "        moveOnlookerBees(foodSources,onlookerBees)\n",
    "        #Evaluate\n",
    "        evaluate(onlookerBees)\n",
    "        # Save the better solution in the foodSources \n",
    "        updateFoodSources(foodSources,onlookerBees,globalBest)\n",
    "#ScotOutBees (thats means - restart not efficient food resources -new random value)\n",
    "\n",
    "        moveScotOutBees(foodSources,MIN_VALUES,MAX_VALUES,2*DIM_SIZE)\n",
    "    \n",
    "        #Evaluate the restarted solutions (in this case restarted hard the current solution)\n",
    "        evaluateWithUpdateTheGlobalBest(foodSources,globalBest)\n",
    "        \n",
    "        # Recodr statistics about population \n",
    "        record = stats.compile(foodSources)\n",
    "        logbook.record(gen=gen, evals=foodSourceNumber, **record)\n",
    "        g_history.append(globalBest.fitness.values)\n",
    "        \n",
    "    # return the best solution and logbook\n",
    "    return g_history, globalBest,logbook\n",
    "        "
   ]
  },
  {
   "cell_type": "code",
   "execution_count": 72,
   "metadata": {},
   "outputs": [],
   "source": [
    "# Tests for the algorithm\n",
    "# The loogs\n",
    "import numpy\n",
    "stats = tools.Statistics(key=lambda ind: ind.fitness.values)\n",
    "stats.register(\"avg\",numpy.mean)\n",
    "stats.register(\"std\",numpy.std)\n",
    "stats.register(\"min\",numpy.min)\n",
    "stats.register(\"max\",numpy.max)"
   ]
  },
  {
   "cell_type": "code",
   "execution_count": 80,
   "metadata": {},
   "outputs": [],
   "source": [
    "# Run the algorithm\n",
    "g_history, globalBest, logbook = ABC_alg(15,1000,stats)"
   ]
  },
  {
   "cell_type": "code",
   "execution_count": 81,
   "metadata": {},
   "outputs": [
    {
     "name": "stderr",
     "output_type": "stream",
     "text": [
      "No handles with labels found to put in legend.\n"
     ]
    },
    {
     "data": {
      "image/png": "[encoded data removed]",
      "text/plain": [
       "<Figure size 1440x720 with 1 Axes>"
      ]
     },
     "metadata": {
      "needs_background": "light"
     },
     "output_type": "display_data"
    },
    {
     "name": "stdout",
     "output_type": "stream",
     "text": [
      "4779.001591403684\n"
     ]
    }
   ],
   "source": [
    "# Plot the results\n",
    "gen, avg, std, Min, Max = logbook.select('gen','avg','std','min','max');\n",
    "import matplotlib.pyplot as plt\n",
    "\n",
    "fig, ax1 = plt.subplots()\n",
    "fig.set_figwidth(20)\n",
    "fig.set_figheight(10)\n",
    "line1 = ax1.plot(gen, Min, \"r-\")\n",
    "ax1.legend()\n",
    "line2 = ax1.plot(gen, avg, \"b-\")\n",
    "line3 = ax1.plot(gen, g_history, \"g-\")\n",
    "\n",
    "ax1.set_xlabel(\"Generations\")\n",
    "ax1.set_ylabel(\"Fitness\", color=\"b\")\n",
    "\n",
    "plt.show()\n",
    "print(globalBest.fitness.values[0])"
   ]
  },
  {
   "cell_type": "code",
   "execution_count": 76,
   "metadata": {},
   "outputs": [
    {
     "ename": "SyntaxError",
     "evalue": "EOF while scanning triple-quoted string literal (<ipython-input-76-eb3b1aa8e7af>, line 6)",
     "output_type": "error",
     "traceback": [
      "\u001b[1;36m  File \u001b[1;32m\"<ipython-input-76-eb3b1aa8e7af>\"\u001b[1;36m, line \u001b[1;32m6\u001b[0m\n\u001b[1;33m    answer question:\u001b[0m\n\u001b[1;37m                    \n^\u001b[0m\n\u001b[1;31mSyntaxError\u001b[0m\u001b[1;31m:\u001b[0m EOF while scanning triple-quoted string literal\n"
     ]
    }
   ],
   "source": [
    "'''conclusion: In this algorithm, firstly variable tournament size (TS) is applied \n",
    "to select the food source position for onlooker bees which helps\n",
    "to achieve diversity in solution. \n",
    "Then to increase convergence speed, a new solution is\n",
    "generated in each cycle which replaced the worst one \n",
    "it would take more time as the problem size becomes larger \n",
    "but it doesn’t take as much time and space as a brute force solution\n",
    "the abc algorithm would be better than other algotithm .compared with Ga and \n"
   ]
  },
  {
   "cell_type": "code",
   "execution_count": null,
   "metadata": {},
   "outputs": [],
   "source": []
  }
 ],
 "metadata": {
  "kernelspec": {
   "display_name": "Python 3",
   "language": "python",
   "name": "python3"
  },
  "language_info": {
   "codemirror_mode": {
    "name": "ipython",
    "version": 3
   },
   "file_extension": ".py",
   "mimetype": "text/x-python",
   "name": "python",
   "nbconvert_exporter": "python",
   "pygments_lexer": "ipython3",
   "version": "3.7.3"
  }
 },
 "nbformat": 4,
 "nbformat_minor": 2
}
