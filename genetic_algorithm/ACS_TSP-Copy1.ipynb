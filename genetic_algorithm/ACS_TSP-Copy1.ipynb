{
 "cells": [
  {
   "cell_type": "code",
   "execution_count": null,
   "metadata": {},
   "outputs": [],
   "source": [
    "import random\n",
    "import csv\n",
    "from deap import base\n",
    "from deap import creator\n",
    "from deap import tools\n",
    "from deap import algorithms\n",
    "import math"
   ]
  },
  {
   "cell_type": "code",
   "execution_count": null,
   "metadata": {},
   "outputs": [],
   "source": [
    "#Create type for minimization of the function\n",
    "creator.create(\"FitnessMin\",base.Fitness,weights=(-1.0,))\n",
    "\n",
    "#Create type for store individual (in this example we use list) \n",
    "creator.create(\"Individual\", list, fitness=creator.FitnessMin)\n"
   ]
  },
  {
   "cell_type": "code",
   "execution_count": null,
   "metadata": {},
   "outputs": [],
   "source": [
    "CITY_NUMBER = 20\n",
    "X_DIM = 100\n",
    "Y_DIM = 100\n",
    "\n",
    "#Create the location of the cities (map) for calculation distance in the fitness function\n",
    "items = {}\n",
    "\n",
    "for i in range(CITY_NUMBER):\n",
    "        items[i] = (random.randint(0,X_DIM),random.randint(0,Y_DIM))\n",
    "        \n",
    "print(items)"
   ]
  },
  {
   "cell_type": "code",
   "execution_count": null,
   "metadata": {},
   "outputs": [],
   "source": [
    "import numpy as np\n",
    "# Define the code for plotting the city on the map\n",
    "# Later, we need the function for plotting the obtained solution on the map (for evaluation)\n",
    "import matplotlib.pyplot as plt \n",
    "\n",
    "fig, ax1 = plt.subplots()\n",
    "\n",
    "# Set the size of the plot\n",
    "fig.set_figwidth(10)\n",
    "fig.set_figheight(10)\n",
    "\n",
    "# Get the number of items for plotting \n",
    "number_of_items = len(items)\n",
    "x = [items[i][0] for i in range(0,number_of_items) ]\n",
    "y = [items[i][1] for i in range(0,number_of_items) ]\n",
    "\n",
    "# Plot the points in the map (map: 100 x 100 pixels)\n",
    "plt.scatter(x, y)\n",
    "\n",
    "# Additionally, add a label for each point (further describe the order of the cities in the travel)\n",
    "for i in range(0,number_of_items):\n",
    "    ax1.annotate(i, (x[i]+1, y[i]+1))\n",
    "    \n",
    "plt.show()\n"
   ]
  },
  {
   "cell_type": "code",
   "execution_count": null,
   "metadata": {},
   "outputs": [],
   "source": [
    "import csv\n",
    "items = {}\n",
    "i = 0\n",
    "with open(f'TSP_{CITY_NUMBER}.csv', newline='') as csvfile:\n",
    "    reader = csv.DictReader(csvfile)\n",
    "    for row in reader:\n",
    "        items[i] = (int(row['x']), int(row['y']))\n",
    "        i+=1"
   ]
  },
  {
   "cell_type": "code",
   "execution_count": null,
   "metadata": {},
   "outputs": [],
   "source": [
    "#Create the class for rand cities with different order without repetition in an effective way for Deap framework\n",
    "class RandCity:\n",
    "    def __init__(self, city_number):\n",
    "        self._city_number = city_number\n",
    "        self._rand_tab = random.sample(range(self._city_number),self._city_number)\n",
    "        self._i = 0\n",
    "    def get_next_city_number(self):\n",
    "        if self._i==self._city_number:\n",
    "            self._i = 0\n",
    "            self._rand_tab = random.sample(range(self._city_number),self._city_number)\n",
    "        self._i += 1\n",
    "        return self._rand_tab[self._i-1] "
   ]
  },
  {
   "cell_type": "code",
   "execution_count": null,
   "metadata": {},
   "outputs": [],
   "source": [
    "#Create toolbox for register needed functions\n",
    "toolbox = base.Toolbox()\n",
    "#Create object for get random cities without repeat\n",
    "rc = RandCity(CITY_NUMBER) \n",
    "\n",
    "#Register function used for init content of the individual (for the benchmark function are the real values)\n",
    "toolbox.register(\"attribute_int\",rc.get_next_city_number)\n",
    "\n",
    "#Register function used for init Population of the individuals\n",
    "toolbox.register(\"individual\", tools.initRepeat, \n",
    "creator.Individual, toolbox.attribute_int, n=CITY_NUMBER)\n",
    "\n",
    "#Register function for create population of individuals\n",
    "toolbox.register(\"population\",tools.initRepeat, list, \n",
    "toolbox.individual)\n"
   ]
  },
  {
   "cell_type": "code",
   "execution_count": null,
   "metadata": {},
   "outputs": [],
   "source": [
    "#Testing the registered function (look on the content of the individual)\n",
    "ind1 = toolbox.individual()\n"
   ]
  },
  {
   "cell_type": "code",
   "execution_count": null,
   "metadata": {},
   "outputs": [],
   "source": [
    "pop = toolbox.population(n=10)\n",
    "print(pop)"
   ]
  },
  {
   "cell_type": "code",
   "execution_count": null,
   "metadata": {},
   "outputs": [],
   "source": [
    "#Draw the exemplary path in the map\n",
    "fig, ax1 = plt.subplots()\n",
    "fig.set_figwidth(10)\n",
    "fig.set_figheight(10)\n",
    "size = len(items)\n",
    "\n",
    "#Get list of the x and y values for plot path on the map\n",
    "x = [items[i][0] for i in range(0,size) ]\n",
    "y = [items[i][1] for i in range(0,size) ]\n",
    "plt.scatter(x, y)\n"
   ]
  },
  {
   "cell_type": "code",
   "execution_count": null,
   "metadata": {},
   "outputs": [],
   "source": [
    "#Get exemplary individual\n",
    "individual = pop[0]\n",
    "print(individual)\n",
    "\n",
    "\n",
    "#Get the list of the x and y values for plot the path on the map using path encoded in the individual[0]\n",
    "xp = [items[individual[i]][0] for i in range(0,size) ]\n",
    "yp = [items[individual[i]][1] for i in range(0,size) ]\n",
    "print(xp)\n",
    "print(yp)\n",
    "plt.plot(xp,yp)\n",
    "\n",
    "# Add annotation (order) on the path\n",
    "for i in range(0,size):\n",
    "    ax1.annotate(i, (xp[i]+1, yp[i]+1))\n"
   ]
  },
  {
   "cell_type": "code",
   "execution_count": null,
   "metadata": {},
   "outputs": [],
   "source": [
    "#Create function for display final results (the look of the path)\n",
    "def plotPath(individual, items):\n",
    "    fig, ax1 = plt.subplots()\n",
    "    fig.set_figwidth(10)\n",
    "    fig.set_figheight(10)\n",
    "    size = len(items)\n",
    "    x = [items[i][0] for i in range(0,size) ]\n",
    "    y = [items[i][1] for i in range(0,size) ]\n",
    "    \n",
    "    plt.scatter(x, y)\n",
    "    print(individual)\n",
    "    xp = [items[individual[i]][0] for i in range(0,size) ]\n",
    "    yp = [items[individual[i]][1] for i in range(0,size) ]\n",
    "    print(xp)\n",
    "    print(yp)\n",
    "    plt.plot(xp,yp)\n",
    "    \n",
    "    for i in range(0,size):\n",
    "        ax1.annotate(f'{i}:({xp[i]},{yp[i]})', (xp[i]+1, \n",
    "yp[i]+1))\n",
    "    plt.show()\n"
   ]
  },
  {
   "cell_type": "code",
   "execution_count": null,
   "metadata": {},
   "outputs": [],
   "source": [
    "plotPath(pop[1], items)"
   ]
  },
  {
   "cell_type": "code",
   "execution_count": null,
   "metadata": {},
   "outputs": [],
   "source": [
    "def init_tau(CITY_NUMBER, start_pheromone_value):\n",
    "    return np.full((CITY_NUMBER,CITY_NUMBER),start_pheromone_value)"
   ]
  },
  {
   "cell_type": "code",
   "execution_count": null,
   "metadata": {},
   "outputs": [],
   "source": [
    "taus = init_tau(CITY_NUMBER,1)\n",
    "print(taus)\n"
   ]
  },
  {
   "cell_type": "code",
   "execution_count": null,
   "metadata": {},
   "outputs": [],
   "source": [
    "# Define the function for calc eta parameter between city1 and city2\n",
    "# (Heuristic information between cities)\n",
    "def calc_eta(city1, city2):\n",
    "    if (city1 != city2):\n",
    "        buf1 = items[city1][0] - items[city2][0]\n",
    "        buf2 = items[city1][1] - items[city2][1]\n",
    "        return 1.0/math.sqrt(buf1*buf1 + buf2*buf2)\n",
    "    else:\n",
    "        return 0.0\n"
   ]
  },
  {
   "cell_type": "code",
   "execution_count": null,
   "metadata": {},
   "outputs": [],
   "source": [
    "# Define the function for calc etas values between all cities and \n",
    "# store in the matrix etas, the etas have the dimension [CITY_NUMBER x CITY_NUMBER]\n",
    "# Function uses the items collection containing location of the cities\n",
    "def calc_etas(items): \n",
    "    etas = np.array([[calc_eta(city1,city2) \n",
    "        for city1 in range(CITY_NUMBER)] \n",
    "            for city2 in range(CITY_NUMBER) ])\n",
    "    return etas\n",
    "etas = calc_etas(items)\n",
    "# Uncoment please, if you need see etas\n",
    "# print(etas)"
   ]
  },
  {
   "cell_type": "code",
   "execution_count": null,
   "metadata": {},
   "outputs": [],
   "source": [
    "# Ant Colony System moving fun.(Gambardella, Dorigo 1996, 1997)\n",
    "def move_ant_ACS(ant, taus, etas, alpha, beta, q0):\n",
    "    feasible_cities = [i for i in range(CITY_NUMBER)]\n",
    "    pos = 0 #start pos\n",
    "    #Set the unvisited values in all pos\n",
    "    for i in range(0,len(ant)):\n",
    "        ant[i] = -1\n",
    "    ant[pos] = random.randint(0,CITY_NUMBER-1) #start from random city\n",
    "    \n",
    "    #Until ant have unvisited city\n",
    "    while len(feasible_cities) > 1:\n",
    "        #remove last visited city from feasible cities\n",
    "        feasible_cities.remove(ant[pos])\n",
    "        #Probability of the selection for ACS system\n",
    "        prob = np.array([ np.where(random.random() < q0 , \n",
    "         taus[pos][next_city] * etas[pos][next_city]**beta, \n",
    "         taus[pos][next_city]**alpha * etas[pos][next_city]**beta)\n",
    "                        for next_city in feasible_cities ])\n",
    "        #Roulette whell\n",
    "        sum = np.sum(prob)\n",
    "        if (sum>0):\n",
    "            prob = prob/sum\n",
    "        roulette = np.cumsum(prob)\n",
    "        selectNextCity = np.argmax(roulette>random.random())\n",
    "        \n",
    "        #Go to the next city accoring to the roulette whell selection\n",
    "        pos += 1\n",
    "        ant[pos] = feasible_cities[selectNextCity]\n",
    "    return ant\n"
   ]
  },
  {
   "cell_type": "code",
   "execution_count": null,
   "metadata": {},
   "outputs": [],
   "source": [
    "# EAS - Elitist Ant System (Dorigo 1992)\n",
    "def update_tau_EAS(pop, tau, ro, e):\n",
    "    # Get fitness\n",
    "    fit = np.array([ant.fitness.values for ant in pop])\n",
    "    # Calc Delta tau for all ants\n",
    "    delta_tau_ant = 1.0/fit\n",
    "    \n",
    "    # Calc Delta tau\n",
    "    delta_tau = np.full((CITY_NUMBER,CITY_NUMBER),0.0)\n",
    "    for ai in range(0,len(pop)):\n",
    "        ant = pop[ai]\n",
    "        for city1, city2 in zip(ant[::1],ant[1::1]):\n",
    "            delta_tau[city1][city2] += delta_tau_ant[ai]\n",
    "            \n",
    "    #Additional update by the best ant (always is on the pos 0)\n",
    "    ant = pop[0]\n",
    "    for city1, city2 in zip(ant[::1],ant[1::1]):\n",
    "            delta_tau[city1][city2] += delta_tau_ant[0] * e\n",
    "    tau = (1.0 - ro) * tau + delta_tau\n",
    "    return tau"
   ]
  },
  {
   "cell_type": "code",
   "execution_count": null,
   "metadata": {},
   "outputs": [],
   "source": [
    "# Ant Colony System (Gambardella, Dorigo 1996, 1997)\n",
    "def update_global_ACS(pop, it_best_ant, tau, ro):\n",
    "    # Calc delta for the iteration best ant\n",
    "    delta_it_best = 1.0/it_best_ant.fitness.values[0]\n",
    "    # Updtate only the iteration best ant\n",
    "    for city1, city2 in zip(it_best_ant[::1],it_best_ant[1::1]):\n",
    "        tau[city1][city2] = (1-ro) * tau[city1][city2] + ro * delta_it_best\n",
    "    return tau\n",
    "# Ant Colony System (ACS) - (Gambardella, Dorigo 1996, 1997)\n",
    "def update_local_ACS(pop, tau, epsilon, tau_0):\n",
    "    for ai in range(0,len(pop)):\n",
    "        ant = pop[ai]\n",
    "        for city1, city2 in zip(ant[::1],ant[1::1]):\n",
    "            tau[city1][city2] = (1.0 - epsilon) * tau[city1][city2] + epsilon * tau_0\n",
    "    return tau\n"
   ]
  },
  {
   "cell_type": "code",
   "execution_count": null,
   "metadata": {},
   "outputs": [],
   "source": [
    "# MMA - Max-Min Ant System (Stutzle, Hoos 1996-2001)\n",
    "def update_global_MMA(pop, it_best_ant, tau, ro, tau_min, tau_max):\n",
    "    # Calc delta for the iteration best ant\n",
    "    delta_it_best = 1.0/it_best_ant.fitness.values[0]\n",
    "    \n",
    "    # Updtate only the iteration best ant\n",
    "    for city1, city2 in zip(it_best_ant[::1],it_best_ant[1::1]):\n",
    "            tau[city1][city2] = (1-ro) * tau[city1][city2] + delta_it_best\n",
    "            # check constrains\n",
    "            if (tau[city1][city2] < tau_min):\n",
    "                tau[city1][city2] = tau_min\n",
    "            if (tau[city1][city2] > tau_max):\n",
    "                tau[city1][city2] = tau_max\n",
    "    return tau\n"
   ]
  },
  {
   "cell_type": "code",
   "execution_count": null,
   "metadata": {},
   "outputs": [],
   "source": [
    "toolbox.register(\"init_pheromones\",init_tau, start_pheromone_value = \n",
    "0.01)\n",
    "toolbox.register(\"calc_heuristic_information\",calc_etas)\n",
    "toolbox.register(\"move\",move_ant_ACS,q0 = 0.4)\n",
    "toolbox.register(\"update_tau\",update_tau_EAS)\n",
    "toolbox.register(\"evaluate\",fitness_tsp)\n",
    "toolbox.register(\"update_tau\", update_tau_EAS, ro = 0.01, e = 2.0  )\n"
   ]
  },
  {
   "cell_type": "code",
   "execution_count": null,
   "metadata": {},
   "outputs": [],
   "source": [
    "def ANT_ALG2(alpha,beta,NGEN,N,stats): \n",
    "    pop = toolbox.population(n=N) #Create a new pop(1)\n",
    "    logbook = tools.Logbook() \n",
    "    etas = toolbox.calc_heuristic_information(items) #heuristic information\n",
    "    taus = toolbox.init_pheromones(CITY_NUMBER) #pheromones\n",
    "    # Evaluate the entire population #(2)\n",
    "    fitnesses = map(toolbox.evaluate, pop)\n",
    "    for ind, fit in zip(pop, fitnesses):\n",
    "        ind.fitness.values = fit\n",
    "    #Find the best ant and remember it\n",
    "    best_ant = toolbox.clone(pop[0])\n",
    "    for ant in pop:\n",
    "        if best_ant.fitness.values > ant.fitness.values:\n",
    "            best_ant = toolbox.clone(ant)\n",
    "    #Create the iteration best ant\n",
    "    it_best_ant = toolbox.clone(best_ant)\n",
    "    # First time update the pheromone trail\n",
    "    taus = toolbox.update_tau(pop,taus)\n",
    "    #taus = toolbox.update_tau_best(pop,it_best_ant,taus)\n",
    "    #Loop over generations\n",
    "    for g in range(NGEN):\n",
    "        # Apply moving of the ant\n",
    "        for ai in range(0,N):\n",
    "            pop[ai] = toolbox.move(pop[ai],taus, etas, alpha,beta)\n",
    "        # Evaluate the individuals with an invalid fitness #(2)\n",
    "        fitnesses = map(toolbox.evaluate, pop)\n",
    "        for ind, fit in zip(pop, fitnesses):\n",
    "            ind.fitness.values = fit\n",
    "        # Find the iteration best ant\n",
    "        it_best_ant = toolbox.clone(pop[0])\n",
    "        # Update the best ant (best - min)\n",
    "        for ant in pop:\n",
    "            # global best\n",
    "            if best_ant.fitness.values > ant.fitness.values:\n",
    "                best_ant = toolbox.clone(ant);\n",
    "            # iteration best\n",
    "            if it_best_ant.fitness.values > ant.fitness.values:\n",
    "                it_best_ant = toolbox.clone(ant)\n",
    "                # And remeber as the first (global best)\n",
    "        pop[0] = toolbox.clone(best_ant); \n",
    "        # Update the pheromone trail\n",
    "        taus = toolbox.update_tau(pop,taus)\n",
    "        #taus = toolbox.update_tau_best(pop,it_best_ant,taus)\n",
    "        record = stats.compile(pop) #record the statistics\n",
    "        logbook.record(gen=g, evals=len(pop), **record)\n",
    "    print(f'The final value for taus is {taus}')\n",
    "    \n",
    "    return pop, logbook\n"
   ]
  },
  {
   "cell_type": "code",
   "execution_count": null,
   "metadata": {},
   "outputs": [],
   "source": [
    "#Build statistics for the algorithm\n",
    "import numpy\n",
    "stats = tools.Statistics(key=lambda ind: ind.fitness.values)\n",
    "stats.register(\"avg\",numpy.mean)\n",
    "stats.register(\"std\",numpy.std)\n",
    "stats.register(\"min\",numpy.min)\n",
    "stats.register(\"max\",numpy.max)\n"
   ]
  },
  {
   "cell_type": "code",
   "execution_count": null,
   "metadata": {},
   "outputs": [],
   "source": [
    "# Run the algoritm\n",
    "pop, logbook = ANT_ALG2(0.5,2,400,100,stats)\n",
    "gen, avg, std, Min, Max = logbook.select('gen','avg','std','min','max')"
   ]
  },
  {
   "cell_type": "code",
   "execution_count": null,
   "metadata": {},
   "outputs": [],
   "source": [
    "import matplotlib.pyplot as plt\n",
    "\n",
    "fig, ax1 = plt.subplots()\n",
    "fig.set_figwidth(20)\n",
    "fig.set_figheight(10)\n",
    "line1 = ax1.plot(gen, Min, \"r-\")\n",
    "ax1.legend()\n",
    "ax2 = ax1.twinx()\n",
    "line2 = ax2.plot(gen, avg, \"b-\")\n",
    "\n",
    "ax1.set_xlabel(\"Generations\")\n",
    "ax1.set_ylabel(\"Fitness\", color=\"b\")\n",
    "\n",
    "plt.show()\n",
    "print(Min)"
   ]
  },
  {
   "cell_type": "code",
   "execution_count": null,
   "metadata": {},
   "outputs": [],
   "source": [
    "evals = [ fitness_tsp(p)[0] for p in pop]\n",
    "print(evals)\n"
   ]
  },
  {
   "cell_type": "code",
   "execution_count": null,
   "metadata": {},
   "outputs": [],
   "source": [
    "evals = [ fitness_tsp(p)[0] for p in pop]\n",
    "print(evals)\n",
    "best = min(evals)\n",
    "print(best)\n",
    "pos = evals.index(best)\n",
    "print(pos)\n",
    "plotPath(pop[pos],items)\n"
   ]
  },
  {
   "cell_type": "code",
   "execution_count": null,
   "metadata": {},
   "outputs": [],
   "source": [
    "# Create function for display finall taus on the pheromone map\n",
    "# Important function for evaluationg, how correct are the parameters: alpha and beta\n",
    "def plotPheromoneTrails(items, taus):\n",
    "    fig, ax1 = plt.subplots()\n",
    "    fig.set_figwidth(10)\n",
    "    fig.set_figheight(10)\n",
    "    size = len(items)\n",
    "    x = [items[i][0] for i in range(0,size) ]\n",
    "    y = [items[i][1] for i in range(0,size) ]\n",
    "    \n",
    "    #The city location\n",
    "    plt.scatter(x, y)\n",
    "    \n",
    "    max_value = np.max(taus)\n",
    "    taus_Norm = taus/max_value\n",
    "    # Div the color to the 3 components (RGB) for better look\n",
    "    # 0-0.33 - small pheromone value (wrong way)\n",
    "    # 0.33-0.66 - average pheromone value\n",
    "    # 0.66-1.0 - bigger pheromone value (better way, the way wisited by the most of the colony)\n",
    "\n",
    "    for p1 in items:\n",
    "        for p2 in items:\n",
    "            if (p1!=p2):\n",
    "                if (taus_Norm[p1][p2]<0.33):\n",
    "                    plt.plot([items[p1][0], \n",
    "items[p2][0]],[items[p1][1],items[p2][1]],color=(taus_Norm[p1][p2],0,0)\n",
    ")\n",
    "                elif (taus_Norm[p1][p2]<0.66):\n",
    "                    plt.plot([items[p1][0], \n",
    "items[p2][0]],[items[p1][1],items[p2][1]],color=(0,taus_Norm[p1][p2],0)\n",
    ")\n",
    "                else:\n",
    "                    plt.plot([items[p1][0], \n",
    "items[p2][0]],[items[p1][1],items[p2][1]],color=(0,0,taus_Norm[p1][p2])\n",
    ")\n",
    "    plt.show()\n"
   ]
  },
  {
   "cell_type": "code",
   "execution_count": null,
   "metadata": {},
   "outputs": [],
   "source": [
    "plotPheromoneTrails(items,taus)\n"
   ]
  },
  {
   "cell_type": "code",
   "execution_count": null,
   "metadata": {},
   "outputs": [],
   "source": [
    "etas = toolbox.calc_heuristic_information(items)\n",
    "plotPheromoneTrails(items,taus)\n"
   ]
  },
  {
   "cell_type": "code",
   "execution_count": null,
   "metadata": {},
   "outputs": [],
   "source": [
    "'''\n",
    "We propose a new model of ant colony optimization (ACO) to solve\n",
    "the traveling salesman problem (TSP) by introducing ants with memory\n",
    "into the ant colony system (ACS). In the new ant system, the ants \n",
    "can remember and make use of the best-so-far solution, \n",
    "so that the algorithm is able to converge into at least\n",
    "a near-optimum solution quickly. We have tested the algorithm \n",
    "in 3 representational TSP instances and compared the results\n",
    "with the original ACS algorithm. According to the result \n",
    "we make amelioration to the new ant model and test it again. \n",
    "The simulations show that the amended ants with memory improve \n",
    "the converge speed and can find better solutions compared \n",
    "to the original ants.\n",
    "'''"
   ]
  },
  {
   "cell_type": "code",
   "execution_count": null,
   "metadata": {},
   "outputs": [],
   "source": []
  },
  {
   "cell_type": "code",
   "execution_count": null,
   "metadata": {},
   "outputs": [],
   "source": []
  }
 ],
 "metadata": {
  "kernelspec": {
   "display_name": "Python 3",
   "language": "python",
   "name": "python3"
  },
  "language_info": {
   "codemirror_mode": {
    "name": "ipython",
    "version": 3
   },
   "file_extension": ".py",
   "mimetype": "text/x-python",
   "name": "python",
   "nbconvert_exporter": "python",
   "pygments_lexer": "ipython3",
   "version": "3.7.3"
  }
 },
 "nbformat": 4,
 "nbformat_minor": 2
}
