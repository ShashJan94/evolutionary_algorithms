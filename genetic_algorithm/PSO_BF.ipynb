{
 "cells": [
  {
   "cell_type": "code",
   "execution_count": 97,
   "metadata": {},
   "outputs": [],
   "source": [
    "import random\n",
    "import math\n",
    "import operator\n",
    "from deap import base\n",
    "from deap import creator\n",
    "from deap import tools\n",
    "from deap import algorithms"
   ]
  },
  {
   "cell_type": "code",
   "execution_count": 98,
   "metadata": {},
   "outputs": [],
   "source": [
    "# Dimension number (number of the attributes)\n",
    "DIM_SIZE = 30\n",
    "# Domain of the problem\n",
    "MIN_VALUES = -500.0\n",
    "MAX_VALUES = 500.0\n"
   ]
  },
  {
   "cell_type": "code",
   "execution_count": 99,
   "metadata": {},
   "outputs": [],
   "source": [
    "#Create type for minimization of the function\n",
    "creator.create(\"FitnessMin\",base.Fitness,weights=(-1.0,))\n",
    "\n",
    "#Create type for store individual (in this example we use list) \n",
    "creator.create(\"Particle\", list, fitness=creator.FitnessMin, v = list, smin = None, smax = None, p = None)\n"
   ]
  },
  {
   "cell_type": "code",
   "execution_count": 100,
   "metadata": {},
   "outputs": [],
   "source": [
    "# Definition of the particle (additional content)\n",
    "def initParticle(size, pmin, pmax, smin, smax):\n",
    "    particle = creator.Particle(random.uniform(pmin, pmax) for _\n",
    "    in range(size))\n",
    "    particle.v = [random.uniform(pmin, pmax) for _ in range(size)]\n",
    "    particle.smin = smin\n",
    "    particle.smax = smax\n",
    "    return particle"
   ]
  },
  {
   "cell_type": "code",
   "execution_count": 101,
   "metadata": {},
   "outputs": [],
   "source": [
    "#Create toolbox for register needed functions\n",
    "toolbox = base.Toolbox()\n",
    "\n",
    "#Register function used for init the individuals\n",
    "toolbox.register(\"individual\", initParticle, size=DIM_SIZE, \n",
    "pmin=MIN_VALUES, pmax=MAX_VALUES, \n",
    "                 smin=MIN_VALUES/2.0,smax=MAX_VALUES/2.0)\n",
    "\n",
    "#Register function for create population of individuals\n",
    "toolbox.register(\"population\",tools.initRepeat, list, \n",
    "toolbox.individual)\n"
   ]
  },
  {
   "cell_type": "code",
   "execution_count": 102,
   "metadata": {},
   "outputs": [],
   "source": [
    "# Create the function for update the speed of the particle \n",
    "# (particle.v), actual position (particle) \n",
    "# using local best position (particle.p),\n",
    "# and global best position (g)\n",
    "def updateParticle(particle, g, c1, c2):\n",
    "    #random numbers (arrays)\n",
    "    u1 = (random.uniform(0, c1) for _ in range(len(particle)))\n",
    "    u2 = (random.uniform(0, c2) for _ in range(len(particle)))\n",
    "    \n",
    "    # Map - Equations for speed parts\n",
    "    v_u1 = map(operator.mul, u1, map(operator.sub, particle.p, particle))\n",
    "    v_u2 = map(operator.mul, u2, map(operator.sub, g, particle))\n",
    "   \n",
    "    # Map - Equations for speed update\n",
    "    particle.v = list(map(operator.add, particle.v, map(operator.add, v_u1, v_u2)))\n",
    "    \n",
    "    #Performing the v update, and check constrains of speed (v)\n",
    "    for i, v in enumerate(particle.v):\n",
    "        if abs(v) < particle.smin:\n",
    "            particle.v[i] = math.copysign(particle.smin, v)\n",
    "        elif abs(v) > particle.smax:\n",
    "            particle.v[i] = math.copysign(particle.smax, v)\n",
    "            \n",
    "    #Performing the particle update (current position)\n",
    "    particle[:] = list(map(operator.add,particle, particle.v))\n",
    "    "
   ]
  },
  {
   "cell_type": "code",
   "execution_count": 103,
   "metadata": {},
   "outputs": [],
   "source": [
    "# Create the function for update the speed of the particle (v), actual position (particle) using local best position\n",
    "# particle.p and global best position (g)\n",
    "# LDPSO verison with the w parameter w\n",
    "def updateParticle_LDPSO(particle, g, w, c1, c2):\n",
    "    #random numbers (arrays)\n",
    "    u1 = (random.uniform(0, c1) for _ in range(len(particle)))\n",
    "    u2 = (random.uniform(0, c2) for _ in range(len(particle)))\n",
    "    \n",
    "    # Map - Equations for speed parts\n",
    "   \n",
    "    v_u1 = map(operator.mul, u1, map(operator.sub, particle.p, particle))\n",
    "    v_u2 = map(operator.mul, u2, map(operator.sub, g, particle))\n",
    "    \n",
    "    w_v = [w * v for v in particle.v]\n",
    "    \n",
    "    # Map - Equations for speed update\n",
    "    particle.v = list(map(operator.add,w_v, map(operator.add, v_u1, v_u2)))\n",
    "    \n",
    "    #Performing the v update, and check constrains of speed (v)\n",
    "    for i, v in enumerate(particle.v):\n",
    "        if abs(v) < particle.smin:\n",
    "            particle.v[i] = math.copysign(particle.smin, v)\n",
    "        elif abs(v) > particle.smax:\n",
    "            particle.v[i] = math.copysign(particle.smax, v)\n",
    "            \n",
    "    #Performing the particle update (current position)\n",
    "    particle[:] = list(map(operator.add,particle, particle.v))\n"
   ]
  },
  {
   "cell_type": "code",
   "execution_count": 104,
   "metadata": {},
   "outputs": [],
   "source": [
    "# The power function (domain <-100,100>)\n",
    "def F1(tab):\n",
    "    return sum([x*x for x in tab]),\n"
   ]
  },
  {
   "cell_type": "code",
   "execution_count": 105,
   "metadata": {},
   "outputs": [],
   "source": [
    "# <-10.10>\n",
    "def F2(tab):\n",
    "    suma = sum([abs(x) for x in tab])\n",
    "    mul = 1\n",
    "    for x in tab:\n",
    "        mul*= abs(x)\n",
    "    return suma + mul,"
   ]
  },
  {
   "cell_type": "code",
   "execution_count": 106,
   "metadata": {},
   "outputs": [],
   "source": [
    "# Definition of the Generalized Schwefel Problem 2.26 (F8) (domain <-500, 500>)\n",
    "def F8(tab):\n",
    "    return sum([ math.sin(math.sqrt(abs(x))) for x in tab]),\n"
   ]
  },
  {
   "cell_type": "code",
   "execution_count": 110,
   "metadata": {},
   "outputs": [],
   "source": [
    "# For the base version\n",
    "toolbox.register(\"update\", updateParticle,c1=2.5, c2=2.5)\n",
    "# LDPSO version\n",
    "#toolbox.register(\"update\", updateParticle_LDPSO, w=0.8, c1=2.0, c2=2.0)\n",
    "toolbox.register(\"evaluate\",F2)"
   ]
  },
  {
   "cell_type": "code",
   "execution_count": 111,
   "metadata": {},
   "outputs": [],
   "source": [
    "import numpy\n",
    "stats = tools.Statistics(key=lambda ind: ind.fitness.values)\n",
    "stats.register(\"avg\",numpy.mean)\n",
    "stats.register(\"std\",numpy.std)\n",
    "stats.register(\"min\",numpy.min)\n",
    "stats.register(\"max\",numpy.max)\n"
   ]
  },
  {
   "cell_type": "code",
   "execution_count": 112,
   "metadata": {},
   "outputs": [],
   "source": [
    "# A base PSO alg (Eberhart and Russel 1995)\n",
    "def PSO_ALG(NGEN,POPSIZE,stats):\n",
    "    # Loogs\n",
    "    logbook = tools.Logbook()\n",
    "    g_history = []\n",
    "    # Create a population of the solutions\n",
    "    pop = toolbox.population(n=POPSIZE)\n",
    "    # Global best soultion\n",
    "    g = None\n",
    "    \n",
    "    for gen in range(NGEN):\n",
    "        for part in pop:\n",
    "            part.fitness.values = toolbox.evaluate(part)\n",
    "            # Create or update local best\n",
    "            if not part.p or part.p.fitness < part.fitness:\n",
    "                part.p = creator.Particle(part)\n",
    "                part.p.fitness.values = part.fitness.values\n",
    "                \n",
    "            # Create or update global best\n",
    "            if not g or g.fitness < part.fitness:\n",
    "                g = creator.Particle(part)\n",
    "                g.fitness.values = part.fitness.values\n",
    "            # Move the population\n",
    "    \n",
    "        for part in pop:\n",
    "            toolbox.update(part,g)\n",
    "        # Recodr statistics about population \n",
    "        record = stats.compile(pop)\n",
    "        logbook.record(gen=gen, evals=POPSIZE, **record)\n",
    "            \n",
    "        # Record in the history the all values of the global best solution\n",
    "        g_history.append(g.fitness.values)\n",
    "            \n",
    "    #return global best, population, statistic about population\n",
    "    return pop, g, g_history, logbook\n"
   ]
  },
  {
   "cell_type": "code",
   "execution_count": 113,
   "metadata": {},
   "outputs": [],
   "source": [
    "pop, g, g_history, logbook = PSO_ALG(100,30,stats)\n",
    "gen, avg, std, Min, Max = logbook.select('gen','avg','std','min','max');           "
   ]
  },
  {
   "cell_type": "code",
   "execution_count": 114,
   "metadata": {},
   "outputs": [
    {
     "name": "stderr",
     "output_type": "stream",
     "text": [
      "No handles with labels found to put in legend.\n"
     ]
    },
    {
     "data": {
      "image/png": "[encoded data removed]",
      "text/plain": [
       "<Figure size 1440x720 with 1 Axes>"
      ]
     },
     "metadata": {
      "needs_background": "light"
     },
     "output_type": "display_data"
    },
    {
     "name": "stdout",
     "output_type": "stream",
     "text": [
      "(1.773875062027875e+51,)\n"
     ]
    }
   ],
   "source": [
    "import matplotlib.pyplot as plt\n",
    "\n",
    "fig, ax1 = plt.subplots()\n",
    "fig.set_figwidth(20)\n",
    "fig.set_figheight(10)\n",
    "line1 = ax1.plot(gen, Min, \"r-\")\n",
    "ax1.legend()\n",
    "line2 = ax1.plot(gen, avg, \"b-\")\n",
    "line3 = ax1.plot(gen, g_history, \"g-\")\n",
    "#ax1.set_yscale('log')\n",
    "\n",
    "ax1.set_xlabel(\"Generations\")\n",
    "ax1.set_ylabel(\"Fitness\", color=\"b\")\n",
    "\n",
    "plt.show()\n",
    "print(g.fitness.values)"
   ]
  },
  {
   "cell_type": "code",
   "execution_count": 85,
   "metadata": {},
   "outputs": [
    {
     "data": {
      "text/plain": [
       "'conclusion: Particle Swarm Optimization (PSO) is a global optimization algorithm\\n   and probabilistic in nature since it contains random processes\\n   The swarm concept was originally studied to graphically simulate the graceful\\n   and unpredictable choreography of a bird flock. However,\\n   we’ve implemented the PSO algorithm to solve a nonlinear control theory problem.\\n   The algorithm is able to find the control u with high precision.'"
      ]
     },
     "execution_count": 85,
     "metadata": {},
     "output_type": "execute_result"
    }
   ],
   "source": [
    "'''conclusion: Particle Swarm Optimization (PSO) is a global optimization algorithm\n",
    "   and probabilistic in nature since it contains random processes\n",
    "   The swarm concept was originally studied to graphically simulate the graceful\n",
    "   and unpredictable choreography of a bird flock. However,\n",
    "   we’ve implemented the PSO algorithm to solve a nonlinear control theory problem.\n",
    "   The algorithm is able to find the control u with high precision.and during this case we find the the cognitive and the social abilities when they take the lowest value the best solution could be lower compared with previous tested algorithm '''\n"
   ]
  },
  {
   "cell_type": "code",
   "execution_count": null,
   "metadata": {},
   "outputs": [],
   "source": []
  },
  {
   "cell_type": "code",
   "execution_count": null,
   "metadata": {},
   "outputs": [],
   "source": []
  }
 ],
 "metadata": {
  "kernelspec": {
   "display_name": "Python 3",
   "language": "python",
   "name": "python3"
  },
  "language_info": {
   "codemirror_mode": {
    "name": "ipython",
    "version": 3
   },
   "file_extension": ".py",
   "mimetype": "text/x-python",
   "name": "python",
   "nbconvert_exporter": "python",
   "pygments_lexer": "ipython3",
   "version": "3.7.3"
  }
 },
 "nbformat": 4,
 "nbformat_minor": 2
}
